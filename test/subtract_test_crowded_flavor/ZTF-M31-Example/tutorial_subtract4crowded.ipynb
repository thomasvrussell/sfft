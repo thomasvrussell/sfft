{
 "cells": [
  {
   "cell_type": "code",
   "execution_count": 1,
   "id": "0f0b996a",
   "metadata": {},
   "outputs": [
    {
     "data": {
      "text/plain": [
       "'\\n$ conda install -c conda-forge astromatic-source-extractor astromatic-swarp  # install SExtractor and SWarp (optional)\\n$ conda create -y --name envsfft python=3.6.6  # create Python Env\\n$ conda activate envsfft\\n$ (envsfft): pip install sfft==1.4.1  # install latest sfft via PyPI\\n\\n'"
      ]
     },
     "execution_count": 1,
     "metadata": {},
     "output_type": "execute_result"
    }
   ],
   "source": [
    "# Create Enviornment \n",
    "\"\"\"\n",
    "$ conda install -c conda-forge astromatic-source-extractor astromatic-swarp  # install SExtractor and SWarp (optional)\n",
    "$ conda create -y --name envsfft python=3.6.6  # create Python Env\n",
    "$ conda activate envsfft\n",
    "$ (envsfft): pip install sfft==1.4.1  # install latest sfft via PyPI\n",
    "\n",
    "\"\"\""
   ]
  },
  {
   "cell_type": "markdown",
   "id": "5817fefb",
   "metadata": {},
   "source": [
    "## STEP 1. specify input and output files\n",
    "\n",
    "### A. Prepare Reference and Science images\n",
    "**The image pair should be well aligned to each other.**\n",
    "\n",
    "**However sky subtraction is NOT required in crowded field case.**\n",
    "\n",
    "### B. Specify the output path of difference image"
   ]
  },
  {
   "cell_type": "code",
   "execution_count": 6,
   "id": "7339a2be",
   "metadata": {},
   "outputs": [],
   "source": [
    "import os\n",
    "import os.path as pa\n",
    "from sfft.EasyCrowdedPacket import Easy_CrowdedPacket\n",
    "\n",
    "CDIR = os.path.abspath(\"\") # get current directory\n",
    "FITS_REF = CDIR + '/input_data/ztf_001735_zg_c01_q2_refimg.resampled.mini.fits'            # reference \n",
    "FITS_SCI = CDIR + '/input_data/ztf_20180705481609_001735_zg_c01_o_q2_sciimg.mini.fits'     # science\n",
    "FITS_DIFF = CDIR + '/output_data/%s.sfftdiff.fits' %(pa.basename(FITS_SCI)[:-5])          # difference"
   ]
  },
  {
   "cell_type": "markdown",
   "id": "f83d7931",
   "metadata": {},
   "source": [
    "## STEP 2. setting meta-parameters\n",
    "\n",
    "### A. BACKEND_4SUBTRACT\n",
    "SFFT has two backends (CPU & GPU), setting BACKEND_4SUBTRACT = 'Numpy' ('Cupy') if you want to use CPU (GPU)\n",
    "\n",
    "### B. CUDA_DEVICE_4SUBTRACT \n",
    "If you are using GPU (i.e., 'Cupy') backend, SFFT allow you to specify which GPU device to use by specify gpu index via CUDA_DEVICE_4SUBTRACT\n",
    "\n",
    "### C. NUM_CPU_THREADS_4SUBTRACT\n",
    "If you are using CPU (i.e., 'Numpy') backend, multiple threading is allowed for speedup and recommended number of threads is 4/8. \n",
    "\n",
    "### D. GAIN_KEY and SATUR_KEY \n",
    "\n",
    "**Gain** and **Saturation** are required in FITS header of reference and science images.\n",
    "\n",
    "**Specifying saturation level is important for crowded case**: SFFT can temporaily mask pixels contaminated by saturations using SExtractor to eliminate their impact on the subtraction performance. Saturation Level is not necessarily very accurate, but a conservative value is recommended to make sure that all possible contaminated pixels will be masked: it is ok to set an underestimated value.\n",
    "\n",
    "**Gain**: Gain value is not very important for crowded case, one can use a placeholder like GAIN=1.0."
   ]
  },
  {
   "cell_type": "code",
   "execution_count": 7,
   "id": "ab50ec32",
   "metadata": {},
   "outputs": [],
   "source": [
    "# * computing backend and resourse \n",
    "BACKEND_4SUBTRACT = 'Numpy'     # FIXME {'Cupy', 'Numpy'}, Use 'Numpy' if you only have CPUs\n",
    "CUDA_DEVICE_4SUBTRACT = '0'     # FIXME ONLY work for backend Cupy\n",
    "NUM_CPU_THREADS_4SUBTRACT = 8   # FIXME ONLY work for backend Numpy\n",
    "\n",
    "# * required info in FITS header\n",
    "GAIN_KEY = 'GAIN'               # NOTE Keyword of Gain in FITS header\n",
    "SATUR_KEY = 'SATURATE'          # NOTE Keyword of Saturation in FITS header"
   ]
  },
  {
   "cell_type": "markdown",
   "id": "3e8ca259",
   "metadata": {},
   "source": [
    "## STEP3. configurations for subtraction\n",
    "\n",
    "### A. ForceConv\n",
    "**ForceConv determines the direction of convolution, can be ['AUTO', 'REF', 'SCI']**\n",
    "\n",
    "**'AUTO'**: convolve the image with smaller FWHM to avoid deconvolution.\n",
    "\n",
    "**'REF'**: convolve the reference image, DIFF = SCI - Convolved REF. **(DIFF has consistent PSF and flux zero-point  with SCI)**.\n",
    "\n",
    "**'SCI'**: convolve the science image, DIFF = Convolved SCI - REF. **(DIFF has consistent PSF and flux zero-point  with REF)**.\n",
    "\n",
    "**Warning**: the estimation of image FWHM depends on point sources. Therefore, the lack of stars in crowded field can make the FWHM estimations not accurate. **If you already know which image has better seeing, please specify the better seeing image to be convolved instead of using 'AUTO'.**\n",
    "\n",
    "### B. GKerHW \n",
    "\n",
    "Given half-width of matching kernel. E.g., GKerHW = 5, the matching kernel has a size 11 x 11.\n",
    "\n",
    "**A rule of thumb: optimial GKerHW ~ 2 * max([FWHM_SCI, FWHM_REF])**\n",
    "\n",
    "### C. KerHWRatio (default, 2)\n",
    "\n",
    "Automatic half-width of matching kernel determined by FWHM. \n",
    "E.g., KerHWRatio = 2 with FWHM_REF = 3.0 and FWHM_SCI = 2.5, the matching kernel half-width will be 6 and size is 13 x 13. \n",
    "\n",
    "**Warning**: the estimated FWHM can be not accurate in crowded field.\n",
    "\n",
    "**Note**: KerHWRatio will be overrided when GKerHW is not None.\n",
    "\n",
    "### D. KerPolyOrder (default, 2)\n",
    "Polynomial Order of Spatial Variation of Matching Kernel. It determines the flexibility of matching kernel across the image field. \n",
    "\n",
    "**KerPolyOrder = 2 is commonly a good choice in most cases.**\n",
    "\n",
    "### E. BGPolyOrder (default, 2)\n",
    "Polynomial Order of Spatial Variation of Differential Background. \n",
    "\n",
    "**KerPolyOrder = 2 or 3 are commonly good choices in most cases.**\n",
    "\n",
    "### F. ConstPhotRatio (default, True)\n",
    "Image subtraction needs to align the different photometric scaling of science and reference image. One have two choices for the scaling by convolution in sfft subtraction.\n",
    "\n",
    "**Constant scaling across the image field**: setting ConstPhotRatio = True, the sfft convolution scale the flux over the image with a constant, i.e., the sum of matching kernel does not change across the field.\n",
    "\n",
    "**Varying scaling across the image field**: setting ConstPhotRatio = False, the sfft convolution scale the flux with spatial variation following the same form determined by the parameter KerPolyOrder. e.g., says KerPolyOrder = 2, the sum of matching kernel follows a two-ordered polynomial surface across the field.\n",
    "\n",
    "### G. PriorBanMask \n",
    "SFFT can only automatically mask saturation regions for solving the image matching. \n",
    "\n",
    "**One can provide additional mask for bad pixel to feed into SFFT using PriorBanMask.** \n",
    "\n",
    "The pixels which have True values in PriorBanMask will be temporarily masked to avoid any undesired affaction to sfft fitting.\n",
    "\n",
    "**Note: these bad pixels will not be masked on difference image**"
   ]
  },
  {
   "cell_type": "code",
   "execution_count": 8,
   "id": "6037bffb",
   "metadata": {},
   "outputs": [],
   "source": [
    "# * how to subtract\n",
    "ForceConv = 'REF'               # FIXME {'AUTO', 'REF', 'SCI'}\n",
    "GKerHW = None                   # FIXME given matching kernel half width\n",
    "KerHWRatio = 2.0                # FIXME Ratio of kernel half width to FWHM (typically, 1.5-2.5).\n",
    "KerPolyOrder = 2                # FIXME {0, 1, 2, 3}, Polynomial degree of kernel spatial variation\n",
    "BGPolyOrder = 2                 # FIXME {0, 1, 2, 3}, Polynomial degree of differential background spatial variation.\n",
    "ConstPhotRatio = True           # FIXME Constant photometric ratio between images?\n",
    "PriorBanMask = None             # FIXME None or a boolean array with same shape of science/reference.\n"
   ]
  },
  {
   "cell_type": "markdown",
   "id": "dbf2e6eb",
   "metadata": {
    "collapsed": true
   },
   "source": [
    "## step4. run the subtraction"
   ]
  },
  {
   "cell_type": "code",
   "execution_count": 14,
   "id": "7200d599",
   "metadata": {},
   "outputs": [
    {
     "name": "stdout",
     "output_type": "stream",
     "text": [
      "MeLOn CheckPoint: TRIGGER Crowded-Flavor Auto Preprocessing!\n",
      "\n",
      "MeLOn CheckPoint [ztf_001735_zg_c01_q2_refimg.resampled.mini.fits]: Run Python Wrapper of SExtractor!\n",
      "MeLOn CheckPoint [ztf_001735_zg_c01_q2_refimg.resampled.mini.fits]: SExtractor uses GAIN = [6.2] from keyword [GAIN]!\n",
      "MeLOn CheckPoint [ztf_001735_zg_c01_q2_refimg.resampled.mini.fits]: SExtractor uses SATURATION = [50581.142] from keyword [SATURATE]!\n",
      "MeLOn CheckPoint [ztf_001735_zg_c01_q2_refimg.resampled.mini.fits]: SExtractor found [532] sources!\n",
      "MeLOn CheckPoint [ztf_001735_zg_c01_q2_refimg.resampled.mini.fits]: PYSEx output catalog contains [532] sources!\n",
      "\n",
      "MeLOn CheckPoint [ztf_20180705481609_001735_zg_c01_o_q2_sciimg.mini.fits]: Run Python Wrapper of SExtractor!\n",
      "MeLOn CheckPoint [ztf_20180705481609_001735_zg_c01_o_q2_sciimg.mini.fits]: SExtractor uses GAIN = [6.2] from keyword [GAIN]!\n",
      "MeLOn CheckPoint [ztf_20180705481609_001735_zg_c01_o_q2_sciimg.mini.fits]: SExtractor uses SATURATION = [48866.145] from keyword [SATURATE]!\n",
      "MeLOn CheckPoint [ztf_20180705481609_001735_zg_c01_o_q2_sciimg.mini.fits]: SExtractor found [371] sources!\n",
      "MeLOn CheckPoint [ztf_20180705481609_001735_zg_c01_o_q2_sciimg.mini.fits]: PYSEx output catalog contains [371] sources!\n",
      "\n",
      "MeLOn CheckPoint: Estimated [FWHM_REF = 2.028 pix] & [FWHM_SCI = 1.773 pix]!\n",
      "\n",
      "MeLOn CheckPoint: The SATURATED Regions --- Number (Pixel Proportion) [REF = 0 (0.00%)] & [SCI = 14 (0.31%)]!\n",
      "\n",
      "MeLOn CheckPoint: Active-Mask Pixel Proportion [99.69%]\n",
      "MeLOn CheckPoint: TRIGGER Function Compilations of SFFT-SUBTRACTION!\n",
      "\n",
      " --//--//--//--//-- TRIGGER SFFT COMPILATION --//--//--//--//-- \n",
      "\n",
      " ---//--- KerPolyOrder 2 | BGPolyOrder 2 | KerHW [4] ---//--- \n",
      "\n",
      " --//--//--//--//-- EXIT SFFT COMPILATION --//--//--//--//-- \n",
      "\n",
      "MeLOn Report: Function Compilations of SFFT-SUBTRACTION TAKES [7.703 s]\n",
      "MeLOn CheckPoint: TRIGGER SFFT-SUBTRACTION!\n",
      "\n",
      "                                __    __    __    __\n",
      "                               /  \\  /  \\  /  \\  /  \\\n",
      "                              /    \\/    \\/    \\/    \\\n",
      "            █████████████████/  /██/  /██/  /██/  /█████████████████████████\n",
      "                            /  / \\   / \\   / \\   / \\  \\____\n",
      "                           /  /   \\_/   \\_/   \\_/   \\    o \\__,\n",
      "                          / _/                       \\_____/  `\n",
      "                          |/\n",
      "        \n",
      "                      █████████  ███████████ ███████████ ███████████        \n",
      "                     ███░░░░░███░░███░░░░░░█░░███░░░░░░█░█░░░███░░░█            \n",
      "                    ░███    ░░░  ░███   █ ░  ░███   █ ░ ░   ░███  ░ \n",
      "                    ░░█████████  ░███████    ░███████       ░███    \n",
      "                     ░░░░░░░░███ ░███░░░█    ░███░░░█       ░███    \n",
      "                     ███    ░███ ░███  ░     ░███  ░        ░███    \n",
      "                    ░░█████████  █████       █████          █████   \n",
      "                     ░░░░░░░░░  ░░░░░       ░░░░░          ░░░░░         \n",
      "        \n",
      "                    Saccadic Fast Fourier Transform (SFFT) algorithm\n",
      "                    sfft (v1.*) supported by @LeiHu\n",
      "        \n",
      "                    GitHub: https://github.com/thomasvrussell/sfft\n",
      "                    Related Paper: https://arxiv.org/abs/2109.09334\n",
      "                    \n",
      "            ████████████████████████████████████████████████████████████████\n",
      "            \n",
      "            \n",
      "\n",
      " --||--||--||--||-- TRIGGER SFFT SUBTRACTION --||--||--||--||-- \n",
      "\n",
      " ---||--- KerPolyOrder 2 | BGPolyOrder 2 | KerHW [4] ---||--- \n",
      "\n",
      "MeLOn CheckPoint: SFFT-SUBTRACTION Preliminary Steps takes [0.5343s]\n",
      "/////   a   ///// Read Input Images  (0.0049s)\n",
      "/////   b   ///// Spatial Polynomial (0.1091s)\n",
      "/////   c   ///// DFT-13             (0.4195s)\n",
      "\n",
      "MeLOn CheckPoint: SFFT-SUBTRACTION Establish & Solve Linear System takes [3.5367s]\n",
      "/////   d   ///// Establish OMG                       (0.8366s)\n",
      "/////   e   ///// Establish GAM                       (0.7967s)\n",
      "/////   f   ///// Establish PSI                       (0.8052s)\n",
      "/////   g   ///// Establish PHI                       (0.8078s)\n",
      "/////   h   ///// Establish THE & DEL                 (0.2756s)\n",
      "/////   i   ///// Solve Linear System                 (0.0141s)\n",
      "\n",
      " --||--||--||--||-- EXIT SFFT SUBTRACTION --||--||--||--||-- \n",
      "\n",
      " --||--||--||--||-- TRIGGER SFFT SUBTRACTION --||--||--||--||-- \n",
      "\n",
      " ---||--- KerPolyOrder 2 | BGPolyOrder 2 | KerHW [4] ---||--- \n",
      "\n",
      "MeLOn CheckPoint: SFFT-SUBTRACTION Preliminary Steps takes [0.2161s]\n",
      "/////   a   ///// Read Input Images  (0.0018s)\n",
      "/////   b   ///// Spatial Polynomial (0.0867s)\n",
      "/////   c   ///// DFT-13             (0.1267s)\n",
      "\n",
      "MeLOn CheckPoint: SFFT-SUBTRACTION Perform Subtraction takes [0.3309s]\n",
      "/////   j   ///// Calculate Kab         (0.1590s)\n",
      "/////   k   ///// Construct DIFF        (0.1719s)\n",
      "\n",
      " --||--||--||--||-- EXIT SFFT SUBTRACTION --||--||--||--||-- \n",
      "\n",
      "MeLOn Report: SFFT-SUBTRACTION TAKES [4.686 s]\n",
      "MeLOn CheckPoint: Reference Image is Convolved in SFFT-SUBTRACTION [DIFF = SCI - Conv(REF)]!\n",
      "MeLOn CheckPoint: The Flux Scaling through the Convolution of SFFT-SUBTRACTION [0.995094 +/- 0.000000] from [1] positions!\n",
      "\n",
      "MeLOn CheckPoint: TEST FOR CROWDED-FLAVOR-SFFT SUBTRACTION DONE!\n",
      "\n"
     ]
    }
   ],
   "source": [
    "PixA_DIFF, SFFTPrepDict = Easy_CrowdedPacket.ECP(FITS_REF=FITS_REF, FITS_SCI=FITS_SCI, \\\n",
    "    FITS_DIFF=FITS_DIFF, FITS_Solution=None, ForceConv=ForceConv, GKerHW=GKerHW, \\\n",
    "    KerHWRatio=KerHWRatio, KerHWLimit=(2, 20), KerPolyOrder=KerPolyOrder, BGPolyOrder=BGPolyOrder, \\\n",
    "    ConstPhotRatio=ConstPhotRatio, MaskSatContam=False, GAIN_KEY=GAIN_KEY, SATUR_KEY=SATUR_KEY, \\\n",
    "    BACK_TYPE='AUTO', BACK_VALUE=0.0, BACK_SIZE=64, BACK_FILTERSIZE=3, DETECT_THRESH=5.0, \\\n",
    "    DETECT_MINAREA=5, DETECT_MAXAREA=0, DEBLEND_MINCONT=0.005, BACKPHOTO_TYPE='LOCAL', \\\n",
    "    ONLY_FLAGS=None, BoundarySIZE=0.0, BACK_SIZE_SUPER=128, StarExt_iter=2, PriorBanMask=PriorBanMask, \\\n",
    "    BACKEND_4SUBTRACT=BACKEND_4SUBTRACT, CUDA_DEVICE_4SUBTRACT=CUDA_DEVICE_4SUBTRACT, \\\n",
    "    NUM_CPU_THREADS_4SUBTRACT=NUM_CPU_THREADS_4SUBTRACT)[:2]\n",
    "print('MeLOn CheckPoint: TEST FOR CROWDED-FLAVOR-SFFT SUBTRACTION DONE!\\n')\n"
   ]
  },
  {
   "cell_type": "code",
   "execution_count": 15,
   "id": "005ca390",
   "metadata": {},
   "outputs": [
    {
     "name": "stdout",
     "output_type": "stream",
     "text": [
      "MeLOn CheckPoint: [REF] is convolved in sfft subtraction\n",
      "* DIFF = SCI - Convolve(REF) has PSF and zero-point aligned with [SCI]!\n",
      "\n",
      "MeLOn CheckPoint: FWHM_REF = [2.03 pix]\n",
      "\n",
      "MeLOn CheckPoint: FWHM_SCI = [1.77 pix]\n"
     ]
    }
   ],
   "source": [
    "from astropy.io import fits\n",
    "\n",
    "# 1. which side is convolved in image subtraction?\n",
    "#    look into the header of difference image\n",
    "\n",
    "CONVD = fits.getheader(FITS_DIFF, ext=0)['CONVD']\n",
    "print('MeLOn CheckPoint: [%s] is convolved in sfft subtraction' %CONVD)\n",
    "if CONVD == 'SCI': print('* DIFF = Convolve(SCI) - REF has PSF and zero-point aligned with [REF]!')\n",
    "if CONVD == 'REF': print('* DIFF = SCI - Convolve(REF) has PSF and zero-point aligned with [SCI]!')\n",
    "    \n",
    "# 2. FWHM Estimations (May not accurate for crowded field where point sources are limited)\n",
    "FWHM_REF = SFFTPrepDict['FWHM_REF']\n",
    "FWHM_SCI = SFFTPrepDict['FWHM_SCI']\n",
    "print('\\nMeLOn CheckPoint: FWHM_REF = [%.2f pix]' %FWHM_REF)\n",
    "print('\\nMeLOn CheckPoint: FWHM_SCI = [%.2f pix]' %FWHM_SCI)\n"
   ]
  },
  {
   "cell_type": "code",
   "execution_count": null,
   "id": "95c065e4",
   "metadata": {},
   "outputs": [],
   "source": []
  }
 ],
 "metadata": {
  "kernelspec": {
   "display_name": "python-envsfft",
   "language": "python",
   "name": "melon"
  },
  "language_info": {
   "codemirror_mode": {
    "name": "ipython",
    "version": 3
   },
   "file_extension": ".py",
   "mimetype": "text/x-python",
   "name": "python",
   "nbconvert_exporter": "python",
   "pygments_lexer": "ipython3",
   "version": "3.6.6"
  }
 },
 "nbformat": 4,
 "nbformat_minor": 5
}
