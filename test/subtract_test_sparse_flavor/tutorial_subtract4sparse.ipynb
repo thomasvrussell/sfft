{
 "cells": [
  {
   "cell_type": "code",
   "execution_count": 4,
   "id": "0f0b996a",
   "metadata": {},
   "outputs": [
    {
     "data": {
      "text/plain": [
       "'\\n$ conda install -c conda-forge astromatic-source-extractor astromatic-swarp  # install SExtractor and SWarp (optional)\\n$ conda create -y --name envsfft python=3.6.6  # create Python Env\\n$ conda activate envsfft\\n$ (envsfft): pip install sfft==1.3.4  # install latest sfft via PyPI\\n\\n'"
      ]
     },
     "execution_count": 4,
     "metadata": {},
     "output_type": "execute_result"
    }
   ],
   "source": [
    "# Create Enviornment \n",
    "\"\"\"\n",
    "$ conda install -c conda-forge astromatic-source-extractor astromatic-swarp  # install SExtractor and SWarp (optional)\n",
    "$ conda create -y --name envsfft python=3.6.6  # create Python Env, other Python version is also good.\n",
    "$ conda activate envsfft\n",
    "$ (envsfft): pip install sfft==1.4.1  # install latest sfft via PyPI\n",
    "\n",
    "\"\"\""
   ]
  },
  {
   "cell_type": "markdown",
   "id": "5817fefb",
   "metadata": {},
   "source": [
    "## STEP 1. specify input and output files\n",
    "\n",
    "### A. Prepare Reference and Science images\n",
    "**The image pair should be well aligned to each other.**\n",
    "\n",
    "**Sky subtraction is REQUIRED in sparse field case.**\n",
    "\n",
    "### B. Specify the output path of difference image"
   ]
  },
  {
   "cell_type": "code",
   "execution_count": null,
   "id": "7339a2be",
   "metadata": {},
   "outputs": [
    {
     "ename": "",
     "evalue": "",
     "output_type": "error",
     "traceback": [
      "\u001b[1;31mRunning cells with 'Python 3.12.4' requires the ipykernel package.\n",
      "\u001b[1;31mRun the following command to install 'ipykernel' into the Python environment. \n",
      "\u001b[1;31mCommand: '/opt/homebrew/bin/python3 -m pip install ipykernel -U --user --force-reinstall'"
     ]
    }
   ],
   "source": [
    "import os\n",
    "import numpy as np\n",
    "import os.path as pa\n",
    "from astropy.io import fits\n",
    "from sfft.EasySparsePacket import Easy_SparsePacket\n",
    "\n",
    "CDIR = os.path.abspath(\"\") # get current directory\n",
    "FITS_REF = CDIR + '/input_data/c4d_180806_052738_ooi_i_v1.S20.skysub.resampled.fits'  # reference \n",
    "FITS_SCI = CDIR + '/input_data/c4d_180802_062754_ooi_i_v1.S20.skysub.fits'            # science\n",
    "FITS_DIFF = CDIR + '/output_data/%s.sfftdiff.fits' %(pa.basename(FITS_SCI)[:-5])    # difference"
   ]
  },
  {
   "cell_type": "markdown",
   "id": "f83d7931",
   "metadata": {},
   "source": [
    "## STEP 2. setting meta-parameters\n",
    "\n",
    "### A. BACKEND_4SUBTRACT\n",
    "SFFT has two backends (CPU & GPU), setting BACKEND_4SUBTRACT = 'Numpy' ('Cupy') if you want to use CPU (GPU)\n",
    "\n",
    "### B. CUDA_DEVICE_4SUBTRACT \n",
    "If you are using GPU (i.e., 'Cupy') backend, SFFT allow you to specify which GPU device to use by specify gpu index via CUDA_DEVICE_4SUBTRACT\n",
    "\n",
    "### C. NUM_CPU_THREADS_4SUBTRACT\n",
    "If you are using CPU (i.e., 'Numpy') backend, multiple threading is allowed for speedup and recommended number of threads is 4/8. \n",
    "\n",
    "### D. GAIN_KEY and SATUR_KEY \n",
    "\n",
    "**Gain** and **Saturation** are required in FITS header of reference and science images.\n",
    "\n",
    "**Specifying saturation level is important for crowded case**: SFFT can temporaily mask pixels contaminated by saturations using SExtractor to eliminate their impact on the subtraction performance. Saturation Level is not necessarily very accurate, but a conservative value is recommended to make sure that all possible contaminated pixels will be masked: it is ok to set an underestimated value.\n",
    "\n",
    "**Gain**: Gain value is important for automatically identifying variables in sfft. Identified variables will be temporiarly masked to avoid their undesired impact on sfft fitting (misleading the flux)."
   ]
  },
  {
   "cell_type": "code",
   "execution_count": 2,
   "id": "ab50ec32",
   "metadata": {},
   "outputs": [],
   "source": [
    "# * computing backend and resourse \n",
    "BACKEND_4SUBTRACT = 'Numpy'     # FIXME {'Cupy', 'Numpy'}, Use 'Numpy' if you only have CPUs\n",
    "CUDA_DEVICE_4SUBTRACT = '0'     # FIXME ONLY work for backend Cupy\n",
    "NUM_CPU_THREADS_4SUBTRACT = 8   # FIXME ONLY work for backend Numpy\n",
    "\n",
    "# * required info in FITS header\n",
    "GAIN_KEY = 'GAIN'               # NOTE Keyword of Gain in FITS header\n",
    "SATUR_KEY = 'SATURATE'          # NOTE Keyword of Saturation in FITS header"
   ]
  },
  {
   "cell_type": "markdown",
   "id": "3e8ca259",
   "metadata": {},
   "source": [
    "## STEP3. configurations for subtraction\n",
    "\n",
    "### A. ForceConv\n",
    "**ForceConv determines the direction of convolution, can be ['AUTO', 'REF', 'SCI']**\n",
    "\n",
    "**'AUTO'**: convolve the image with smaller FWHM to avoid deconvolution.\n",
    "\n",
    "**'REF'**: convolve the reference image, DIFF = SCI - Convolved REF. **(DIFF has consistent PSF and flux zero-point  with SCI)**.\n",
    "\n",
    "**'SCI'**: convolve the science image, DIFF = Convolved SCI - REF. **(DIFF has consistent PSF and flux zero-point  with REF)**.\n",
    "\n",
    "**Warning**: the estimation of image FWHM depends on point sources. SFFT identify point sources based on SExtractor photometry by perform Hough line feature detection on a plane of MAG_AUTO vs FLUX_RADIUS. FWHM estimations are commonly reliable in sparse fields where point sources are usually abundant.\n",
    "\n",
    "### B. GKerHW \n",
    "\n",
    "Given half-width of matching kernel. E.g., GKerHW = 5, the matching kernel has a size 11 x 11.\n",
    "\n",
    "**A rule of thumb: optimial GKerHW ~ 2 * max([FWHM_SCI, FWHM_REF])**\n",
    "\n",
    "### C. KerHWRatio (default, 2)\n",
    "\n",
    "Automatic half-width of matching kernel determined by FWHM. \n",
    "E.g., KerHWRatio = 2 with FWHM_REF = 3.0 and FWHM_SCI = 2.5, the matching kernel half-width will be 6 and size is 13 x 13. \n",
    "\n",
    "**Note**: KerHWRatio will be overrided when GKerHW is not None.\n",
    "\n",
    "### D. KerPolyOrder (default, 2)\n",
    "Polynomial Order of Spatial Variation of Matching Kernel. It determines the flexibility of matching kernel across the image field. \n",
    "\n",
    "**KerPolyOrder = 2 is commonly a good choice in most cases.**\n",
    "\n",
    "### E. BGPolyOrder (default, 0)\n",
    "Polynomial Order of Spatial Variation of Differential Background. The parameter is trivial for sparse fields as we have suctracted sky background, so we commnly set BGPolyOrder=0.\n",
    "\n",
    "### F. ConstPhotRatio (default, True)\n",
    "Image subtraction needs to align the different photometric scaling of science and reference image. One have two choices for the scaling by convolution in sfft subtraction.\n",
    "\n",
    "**Constant scaling across the image field**: setting ConstPhotRatio = True, the sfft convolution scale the flux over the image with a constant, i.e., the sum of matching kernel does not change across the field.\n",
    "\n",
    "**Varying scaling across the image field**: setting ConstPhotRatio = False, the sfft convolution scale the flux with spatial variation following the same form determined by the parameter KerPolyOrder. e.g., says KerPolyOrder = 2, the sum of matching kernel follows a two-ordered polynomial surface across the field.\n"
   ]
  },
  {
   "cell_type": "code",
   "execution_count": 3,
   "id": "bac1c66d",
   "metadata": {},
   "outputs": [],
   "source": [
    "# * how to subtract\n",
    "ForceConv = 'AUTO'              # FIXME {'AUTO', 'REF', 'SCI'}\n",
    "GKerHW = None                   # FIXME given matching kernel half width\n",
    "KerHWRatio = 2.0                # FIXME Ratio of kernel half width to FWHM (typically, 1.5-2.5).\n",
    "KerPolyOrder = 2                # FIXME {0, 1, 2, 3}, Polynomial degree of kernel spatial variation\n",
    "BGPolyOrder = 0                 # FIXME {0, 1, 2, 3}, Polynomial degree of differential background spatial variation.\n",
    "ConstPhotRatio = True           # FIXME Constant photometric ratio between images?\n"
   ]
  },
  {
   "cell_type": "markdown",
   "id": "03766674",
   "metadata": {},
   "source": [
    "## STEP3+. additional configurations for subtraction \n",
    "\n",
    "#### G. COARSE_VAR_REJECTION (default, True)\n",
    "Boolean, activate Coarse Variable Rejection (CVREJ) or not. CVREJ is used to reject variables by outlier clipping on the difference of instrumental magnitude measured on reference and science.\n",
    "\n",
    "#### H. CVREJ_MAGD_THRESH (default, 0.12)\n",
    "Magnitude threshold for CVREJ\n",
    "\n",
    "#### I. ELABO_VAR_REJECTION (default, True)\n",
    "Boolean, activate Elaborate Variable Rejection (EVREJ) or not. CVREJ is used to reject variables more carefully by taking photometric uncertainty (SExtractor FLUXERR_AUTO) into account. "
   ]
  },
  {
   "cell_type": "code",
   "execution_count": 4,
   "id": "24040dc5",
   "metadata": {},
   "outputs": [],
   "source": [
    "COARSE_VAR_REJECTION = True     # FIXME Coarse Variable Rejection? {True, False}\n",
    "CVREJ_MAGD_THRESH = 0.12        # FIXME magnitude threshold for Coarse Variable Rejection\n",
    "ELABO_VAR_REJECTION = True      # FIXME Elaborate Variable Rejection? {True, False}"
   ]
  },
  {
   "cell_type": "markdown",
   "id": "dbf2e6eb",
   "metadata": {
    "collapsed": true
   },
   "source": [
    "## STEP4. run the subtraction"
   ]
  },
  {
   "cell_type": "code",
   "execution_count": 5,
   "id": "35b32d6c",
   "metadata": {},
   "outputs": [
    {
     "name": "stderr",
     "output_type": "stream",
     "text": [
      "/Users/thomas/miniconda3/envs/envsfft/lib/python3.6/site-packages/sfft/EasySparsePacket.py:281: UserWarning: \n",
      "MeLOn REMINDER: Input images for sparse-flavor sfft should be SKY-SUBTRACTED!\n",
      "  warnings.warn('\\nMeLOn REMINDER: Input images for sparse-flavor sfft should be SKY-SUBTRACTED!')\n"
     ]
    },
    {
     "name": "stdout",
     "output_type": "stream",
     "text": [
      "MeLOn CheckPoint: TRIGGER Sparse-Flavor Auto Preprocessing [HOUGH-AUTO] MODE!\n",
      "\n",
      "MeLOn CheckPoint [c4d_180806_052738_ooi_i_v1.S20.skysub.resampled.fits]: Run Python Wrapper of SExtractor!\n",
      "MeLOn CheckPoint [c4d_180806_052738_ooi_i_v1.S20.skysub.resampled.fits]: SExtractor uses GAIN = [3.9143375010529] from keyword [GAIN]!\n",
      "MeLOn CheckPoint [c4d_180806_052738_ooi_i_v1.S20.skysub.resampled.fits]: SExtractor uses SATURATION = [50335.6275904102] from keyword [SATURATE]!\n",
      "MeLOn CheckPoint [c4d_180806_052738_ooi_i_v1.S20.skysub.resampled.fits]: SExtractor found [4209] sources!\n",
      "MeLOn CheckPoint [c4d_180806_052738_ooi_i_v1.S20.skysub.resampled.fits]: PYSEx excludes [897 / 4209] sources by FLAGS restriction!\n",
      "MeLOn CheckPoint [c4d_180806_052738_ooi_i_v1.S20.skysub.resampled.fits]: PYSEx excludes [60 / 3312] sources by boundary rejection!\n",
      "MeLOn CheckPoint [c4d_180806_052738_ooi_i_v1.S20.skysub.resampled.fits]: PYSEx output catalog contains [3252] sources!\n",
      "MeLOn CheckPoint: current scikit-image [0.17.2] uses classic implementation of hough transform\n",
      "MeLOn CheckPoint: [UNIQUE] near-horizon peak as Point-Source-Belt!\n",
      "MeLOn CheckPoint: The Point-Source-Belt detected by Hough Transform is characterized by [0.008775, 1.721024]!\n",
      "MeLOn CheckPoint: HoughMorphClassifier FR-S/M/L counts are [224 / 1383 / 1645]\n",
      "MeLOn CheckPoint: [3028] Good-Sources on the Image!\n",
      "MeLOn CheckPoint: [1349] Point-Sources on the Image!\n",
      "MeLOn CheckPoint: Estimated [FWHM = 3.101 pix] from Point-Sources\n",
      "\n",
      "MeLOn CheckPoint [c4d_180802_062754_ooi_i_v1.S20.skysub.fits]: Run Python Wrapper of SExtractor!\n",
      "MeLOn CheckPoint [c4d_180802_062754_ooi_i_v1.S20.skysub.fits]: SExtractor uses GAIN = [3.914630599389285] from keyword [GAIN]!\n",
      "MeLOn CheckPoint [c4d_180802_062754_ooi_i_v1.S20.skysub.fits]: SExtractor uses SATURATION = [50330.4460386288] from keyword [SATURATE]!\n",
      "MeLOn CheckPoint [c4d_180802_062754_ooi_i_v1.S20.skysub.fits]: SExtractor found [2629] sources!\n",
      "MeLOn CheckPoint [c4d_180802_062754_ooi_i_v1.S20.skysub.fits]: PYSEx excludes [497 / 2629] sources by FLAGS restriction!\n",
      "MeLOn CheckPoint [c4d_180802_062754_ooi_i_v1.S20.skysub.fits]: PYSEx excludes [55 / 2132] sources by boundary rejection!\n",
      "MeLOn CheckPoint [c4d_180802_062754_ooi_i_v1.S20.skysub.fits]: PYSEx output catalog contains [2077] sources!\n",
      "MeLOn CheckPoint: current scikit-image [0.17.2] uses classic implementation of hough transform\n",
      "MeLOn CheckPoint: [UNIQUE] near-horizon peak as Point-Source-Belt!\n",
      "MeLOn CheckPoint: The Point-Source-Belt detected by Hough Transform is characterized by [0.026326, 2.290448]!\n",
      "MeLOn CheckPoint: HoughMorphClassifier FR-S/M/L counts are [282 / 896 / 899]\n",
      "MeLOn CheckPoint: [1795] Good-Sources on the Image!\n",
      "MeLOn CheckPoint: [879] Point-Sources on the Image!\n",
      "MeLOn CheckPoint: Estimated [FWHM = 4.623 pix] from Point-Sources\n",
      "\n",
      "MeLOn CheckPoint: Estimated [FWHM_REF = 3.101 pix] & [FWHM_SCI = 4.623 pix]!\n",
      "MeLOn CheckPoint: Tolerance [1.855 pix] For Source Cross-Match!\n",
      "\n",
      "MeLOn CheckPoint: Magnitude Offset Estimate --- [median: -0.013 mag] >>> [weighted-median: -0.017 mag]!\n",
      "\n",
      "MeLOn CheckPoint: Coarse Variable Rejection [magnitude deviation > 0.120 mag] on Matched-GoodSources [326 / 1591]!\n",
      "\n",
      "MeLOn CheckPoint: Elaborate Variable Rejection [flux deviation > 5.00 sigma] & [magnitude deviation > 0.040 mag] on Matched-GoodSources [2 / 1591] or [0.13%]!\n",
      "\n",
      "MeLOn CheckPoint: SubSources out of Matched-GoodSources [1263 / 1591]!\n"
     ]
    },
    {
     "name": "stderr",
     "output_type": "stream",
     "text": [
      "/Users/thomas/miniconda3/envs/envsfft/lib/python3.6/site-packages/sfft/AutoSparsePrep.py:256: UserWarning: \n",
      "MeLOn WARNING: Elaborate Variable Rejection requires CORRECT GAIN in FITS HEADER!\n",
      "  warnings.warn('\\nMeLOn WARNING: Elaborate Variable Rejection requires CORRECT GAIN in FITS HEADER!')\n"
     ]
    },
    {
     "name": "stdout",
     "output_type": "stream",
     "text": [
      "MeLOn CheckPoint: SKIP, NO Prior-Banned Coordinates Given!\n",
      "MeLOn CheckPoint: Active-Mask (Non-Prior-Banned SubSources) Pixel Proportion [4.32%]\n",
      "MeLOn CheckPoint: TRIGGER Function Compilations of SFFT-SUBTRACTION!\n",
      "\n",
      " --//--//--//--//-- TRIGGER SFFT COMPILATION --//--//--//--//-- \n",
      "\n",
      " ---//--- KerPolyOrder 2 | BGPolyOrder 0 | KerHW [9] ---//--- \n",
      "\n",
      " --//--//--//--//-- EXIT SFFT COMPILATION --//--//--//--//-- \n",
      "\n",
      "MeLOn Report: Function Compilations of SFFT-SUBTRACTION TAKES [7.617 s]!\n",
      "MeLOn CheckPoint: TRIGGER SFFT-SUBTRACTION!\n",
      "\n",
      "                                __    __    __    __\n",
      "                               /  \\  /  \\  /  \\  /  \\\n",
      "                              /    \\/    \\/    \\/    \\\n",
      "            █████████████████/  /██/  /██/  /██/  /█████████████████████████\n",
      "                            /  / \\   / \\   / \\   / \\  \\____\n",
      "                           /  /   \\_/   \\_/   \\_/   \\    o \\__,\n",
      "                          / _/                       \\_____/  `\n",
      "                          |/\n",
      "        \n",
      "                      █████████  ███████████ ███████████ ███████████        \n",
      "                     ███░░░░░███░░███░░░░░░█░░███░░░░░░█░█░░░███░░░█            \n",
      "                    ░███    ░░░  ░███   █ ░  ░███   █ ░ ░   ░███  ░ \n",
      "                    ░░█████████  ░███████    ░███████       ░███    \n",
      "                     ░░░░░░░░███ ░███░░░█    ░███░░░█       ░███    \n",
      "                     ███    ░███ ░███  ░     ░███  ░        ░███    \n",
      "                    ░░█████████  █████       █████          █████   \n",
      "                     ░░░░░░░░░  ░░░░░       ░░░░░          ░░░░░         \n",
      "        \n",
      "                    Saccadic Fast Fourier Transform (SFFT) algorithm\n",
      "                    sfft (v1.*) supported by @LeiHu\n",
      "        \n",
      "                    GitHub: https://github.com/thomasvrussell/sfft\n",
      "                    Related Paper: https://arxiv.org/abs/2109.09334\n",
      "                    \n",
      "            ████████████████████████████████████████████████████████████████\n",
      "            \n",
      "            \n",
      "\n",
      " --||--||--||--||-- TRIGGER SFFT SUBTRACTION --||--||--||--||-- \n",
      "\n",
      " ---||--- KerPolyOrder 2 | BGPolyOrder 0 | KerHW [9] ---||--- \n",
      "\n",
      "MeLOn CheckPoint: SFFT-SUBTRACTION Preliminary Steps takes [2.5423s]\n",
      "/////   a   ///// Read Input Images  (0.0312s)\n",
      "/////   b   ///// Spatial Polynomial (0.4433s)\n",
      "/////   c   ///// DFT-8             (2.0659s)\n",
      "\n",
      "MeLOn CheckPoint: SFFT-SUBTRACTION Establish & Solve Linear System takes [11.4662s]\n",
      "/////   d   ///// Establish OMG                       (7.9145s)\n",
      "/////   e   ///// Establish GAM                       (1.0627s)\n",
      "/////   f   ///// Establish PSI                       (1.0573s)\n",
      "/////   g   ///// Establish PHI                       (0.1591s)\n",
      "/////   h   ///// Establish THE & DEL                 (1.1694s)\n",
      "/////   i   ///// Solve Linear System                 (0.0901s)\n",
      "\n",
      " --||--||--||--||-- EXIT SFFT SUBTRACTION --||--||--||--||-- \n",
      "\n",
      " --||--||--||--||-- TRIGGER SFFT SUBTRACTION --||--||--||--||-- \n",
      "\n",
      " ---||--- KerPolyOrder 2 | BGPolyOrder 0 | KerHW [9] ---||--- \n",
      "\n",
      "MeLOn CheckPoint: SFFT-SUBTRACTION Preliminary Steps takes [2.3979s]\n",
      "/////   a   ///// Read Input Images  (0.0081s)\n",
      "/////   b   ///// Spatial Polynomial (0.4003s)\n",
      "/////   c   ///// DFT-8             (1.9876s)\n",
      "\n",
      "MeLOn CheckPoint: SFFT-SUBTRACTION Perform Subtraction takes [6.6584s]\n",
      "/////   j   ///// Calculate Kab         (3.3540s)\n",
      "/////   k   ///// Construct DIFF        (3.3044s)\n",
      "\n",
      " --||--||--||--||-- EXIT SFFT SUBTRACTION --||--||--||--||-- \n",
      "\n",
      "MeLOn Report: SFFT-SUBTRACTION TAKES [23.487 s]!\n",
      "MeLOn CheckPoint: Reference Image is Convolved in SFFT-SUBTRACTION [DIFF = SCI - Conv(REF)]!\n",
      "MeLOn CheckPoint: The Flux Scaling through the Convolution of SFFT-SUBTRACTION [1.014053 +/- 0.000000] from [1] positions!\n",
      "P.S. The approximated Flux Scaling from Photometry [1.016153].\n"
     ]
    }
   ],
   "source": [
    "# NOTE: see complete descriptions of the parameters via help(sfft.Easy_SparsePacket)\n",
    "PixA_DIFF, SFFTPrepDict = Easy_SparsePacket.ESP(FITS_REF=FITS_REF, FITS_SCI=FITS_SCI, \\\n",
    "    FITS_DIFF=FITS_DIFF, FITS_Solution=None, ForceConv=ForceConv, GKerHW=None, \\\n",
    "    KerHWRatio=KerHWRatio, KerHWLimit=(2, 20), KerPolyOrder=KerPolyOrder, \\\n",
    "    BGPolyOrder=BGPolyOrder, ConstPhotRatio=ConstPhotRatio, MaskSatContam=False, \\\n",
    "    GAIN_KEY=GAIN_KEY, SATUR_KEY=SATUR_KEY, BACK_TYPE='MANUAL', BACK_VALUE=0.0, \\\n",
    "    BACK_SIZE=64, BACK_FILTERSIZE=3, DETECT_THRESH=2.0, DETECT_MINAREA=5, \\\n",
    "    DETECT_MAXAREA=0, DEBLEND_MINCONT=0.005, BACKPHOTO_TYPE='LOCAL', \\\n",
    "    ONLY_FLAGS=[0], BoundarySIZE=30, XY_PriorSelect=None, Hough_MINFR=0.1, \\\n",
    "    Hough_PeakClip=0.7, BeltHW=0.2, PointSource_MINELLIP=0.3, MatchTol=None, \\\n",
    "    MatchTolFactor=3.0, COARSE_VAR_REJECTION=COARSE_VAR_REJECTION, \\\n",
    "    CVREJ_MAGD_THRESH=CVREJ_MAGD_THRESH, ELABO_VAR_REJECTION=ELABO_VAR_REJECTION, \\\n",
    "    EVREJ_RATIO_THREH=5.0, EVREJ_SAFE_MAGDEV=0.04, StarExt_iter=4, XY_PriorBan=None, \\\n",
    "    PostAnomalyCheck=False, PAC_RATIO_THRESH=5.0, BACKEND_4SUBTRACT=BACKEND_4SUBTRACT, \\\n",
    "    CUDA_DEVICE_4SUBTRACT=CUDA_DEVICE_4SUBTRACT, \\\n",
    "    NUM_CPU_THREADS_4SUBTRACT=NUM_CPU_THREADS_4SUBTRACT)[:2]\n"
   ]
  },
  {
   "cell_type": "markdown",
   "id": "d1efdaeb",
   "metadata": {},
   "source": [
    "### POST CHECK 0. Basic Information"
   ]
  },
  {
   "cell_type": "code",
   "execution_count": 6,
   "id": "8ae52288",
   "metadata": {},
   "outputs": [
    {
     "name": "stdout",
     "output_type": "stream",
     "text": [
      "MeLOn CheckPoint: [REF] is convolved in sfft subtraction\n",
      "* DIFF = SCI - Convolve(REF) has PSF and zero-point aligned with [SCI]!\n",
      "\n",
      "MeLOn CheckPoint: FWHM_REF = [3.10 pix]\n",
      "\n",
      "MeLOn CheckPoint: FWHM_SCI = [4.62 pix]\n",
      "\n",
      "MeLOn CheckPoint: [1263] Sources are selected for fitting solution in SFFT!\n"
     ]
    }
   ],
   "source": [
    "# 1. which side is convolved in image subtraction?\n",
    "#    look into the header of difference image\n",
    "\n",
    "CONVD = fits.getheader(FITS_DIFF, ext=0)['CONVD']\n",
    "print('MeLOn CheckPoint: [%s] is convolved in sfft subtraction' %CONVD)\n",
    "if CONVD == 'SCI': print('* DIFF = Convolve(SCI) - REF has PSF and zero-point aligned with [REF]!')\n",
    "if CONVD == 'REF': print('* DIFF = SCI - Convolve(REF) has PSF and zero-point aligned with [SCI]!')\n",
    "    \n",
    "# 2. FWHM Estimations\n",
    "FWHM_REF = SFFTPrepDict['FWHM_REF']\n",
    "FWHM_SCI = SFFTPrepDict['FWHM_SCI']\n",
    "print('\\nMeLOn CheckPoint: FWHM_REF = [%.2f pix]' %FWHM_REF)\n",
    "print('\\nMeLOn CheckPoint: FWHM_SCI = [%.2f pix]' %FWHM_SCI)\n",
    "\n",
    "# 3. How many sources used to fit in SFFT subtraction\n",
    "AstSS = SFFTPrepDict['SExCatalog-SubSource']\n",
    "print('\\nMeLOn CheckPoint: [%d] Sources are selected for fitting solution in SFFT!' %(len(AstSS)))"
   ]
  },
  {
   "cell_type": "markdown",
   "id": "dbef516a",
   "metadata": {},
   "source": [
    "### POST CHECK 1. Which Pixels were Fitted by SFFT?\n",
    "\n",
    "**For the check images, we fill random noise on the pixels which are not fitted by SFFT. That is, only the remaining pixels have contributed the solution of the matching kernel in SFFT.**"
   ]
  },
  {
   "cell_type": "code",
   "execution_count": null,
   "id": "7045afec",
   "metadata": {},
   "outputs": [],
   "source": [
    "from sfft.utils.SkyLevelEstimator import SkyLevel_Estimator\n",
    "# open ./output_data/*.fittedPix.fits to check the pixels used in fitting\n",
    "# * pixels not used have been replaced by random noise.\n",
    "\n",
    "# for Science\n",
    "PixA_SCI = SFFTPrepDict['PixA_SCI']\n",
    "sky, skysig = SkyLevel_Estimator.SLE(PixA_obj=PixA_SCI)\n",
    "PixA_NOSCI = np.random.normal(sky, skysig, PixA_SCI.shape)\n",
    "\n",
    "FITS_FittedSCI = CDIR + '/output_data/%s.fittedPix.fits' %(pa.basename(FITS_SCI)[:-5])\n",
    "with fits.open(FITS_SCI) as hdl:\n",
    "    PixA_SCI = hdl[0].data.T\n",
    "    NonActive = ~SFFTPrepDict['Active-Mask']\n",
    "    PixA_SCI[NonActive] = PixA_NOSCI[NonActive]\n",
    "    hdl[0].data[:, :] = PixA_SCI.T\n",
    "    hdl.writeto(FITS_FittedSCI, overwrite=True)\n",
    "\n",
    "# for Reference\n",
    "PixA_REF = SFFTPrepDict['PixA_REF']\n",
    "sky, skysig = SkyLevel_Estimator.SLE(PixA_obj=PixA_REF)\n",
    "PixA_NOREF = np.random.normal(sky, skysig, PixA_REF.shape)\n",
    "\n",
    "FITS_FittedREF = CDIR + '/output_data/%s.fittedPix.fits' %(pa.basename(FITS_REF)[:-5])\n",
    "with fits.open(FITS_REF) as hdl:\n",
    "    PixA_REF = hdl[0].data.T\n",
    "    NonActive = ~SFFTPrepDict['Active-Mask']\n",
    "    PixA_REF[NonActive] = PixA_NOREF[NonActive]\n",
    "    hdl[0].data[:, :] = PixA_REF.T\n",
    "    hdl.writeto(FITS_FittedREF, overwrite=True)\n",
    "\n",
    "# for Difference\n",
    "sky, skysig = SkyLevel_Estimator.SLE(PixA_obj=PixA_DIFF)\n",
    "PixA_NODIFF = np.random.normal(sky, skysig, PixA_DIFF.shape)\n",
    "\n",
    "FITS_FittedDIFF = CDIR + '/output_data/%s.fittedPix.fits' %(pa.basename(FITS_DIFF)[:-5])\n",
    "with fits.open(FITS_DIFF) as hdl:\n",
    "    PixA_DIFF = hdl[0].data.T\n",
    "    NonActive = ~SFFTPrepDict['Active-Mask']\n",
    "    PixA_DIFF[NonActive] = PixA_NODIFF[NonActive]\n",
    "    hdl[0].data[:, :] = PixA_DIFF.T\n",
    "    hdl.writeto(FITS_FittedDIFF, overwrite=True)\n"
   ]
  },
  {
   "cell_type": "markdown",
   "id": "8a8c63cf",
   "metadata": {},
   "source": [
    "### POST CHECK2. check if any prominent variables survive?"
   ]
  },
  {
   "cell_type": "code",
   "execution_count": 8,
   "id": "2a4ec3f2",
   "metadata": {},
   "outputs": [],
   "source": [
    "import matplotlib.pyplot as plt\n",
    "plt.switch_backend('agg')\n",
    "\n",
    "# open ./output_data/varcheck.pdf to see the figure\n",
    "# one may deactivate any variabvle rejection and generate \n",
    "# this figure again to see the effect of our rejection.\n",
    "# (that is, setting COARSE_VAR_REJECTION = False and ELABO_VAR_REJECTION = False)\n",
    "\n",
    "AstSS = SFFTPrepDict['SExCatalog-SubSource']\n",
    "\n",
    "plt.figure(figsize=(8, 4))\n",
    "ax = plt.subplot(111)\n",
    "xdata = AstSS['MAG_AUTO_REF']\n",
    "exdata = AstSS['MAGERR_AUTO_REF']\n",
    "ydata = AstSS['MAG_AUTO_SCI'] - AstSS['MAG_AUTO_REF']\n",
    "eydata = AstSS['MAGERR_AUTO_SCI']\n",
    "\n",
    "ax.errorbar(xdata, ydata, xerr=exdata, yerr=eydata, \n",
    "    fmt='o', markersize=2.5, color='black', mfc='#EE3277',\n",
    "    capsize=2.5, elinewidth=0.5, markeredgewidth=0.1)\n",
    "\n",
    "m = np.median(ydata) \n",
    "ml, mu = m - CVREJ_MAGD_THRESH, m + CVREJ_MAGD_THRESH\n",
    "ax.hlines(y=[m, ml, mu], xmin=xdata.min(), xmax=xdata.max(), \n",
    "    linestyle='--', zorder=3, color='#1D90FF')\n",
    "ax.set_xlabel(r'MAG_AUTO (REF)')\n",
    "ax.set_ylabel(r'MAG_AUTO (SCI) - MAG_AUTO (REF)')\n",
    "plt.savefig(CDIR + '/output_data/varcheck.pdf', dpi=300)\n",
    "plt.close()\n"
   ]
  },
  {
   "cell_type": "code",
   "execution_count": null,
   "id": "534e5120",
   "metadata": {},
   "outputs": [],
   "source": [
    "\n",
    "\n"
   ]
  }
 ],
 "metadata": {
  "kernelspec": {
   "display_name": "Python 3",
   "language": "python",
   "name": "python3"
  },
  "language_info": {
   "codemirror_mode": {
    "name": "ipython",
    "version": 3
   },
   "file_extension": ".py",
   "mimetype": "text/x-python",
   "name": "python",
   "nbconvert_exporter": "python",
   "pygments_lexer": "ipython3",
   "version": "3.12.4"
  }
 },
 "nbformat": 4,
 "nbformat_minor": 5
}
